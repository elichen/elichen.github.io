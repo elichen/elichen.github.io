{
 "cells": [
  {
   "cell_type": "code",
   "execution_count": 1,
   "id": "01d94892-50ea-4c5c-8af1-e5033555cd77",
   "metadata": {},
   "outputs": [],
   "source": [
    "%load_ext autoreload\n",
    "%autoreload 2"
   ]
  },
  {
   "cell_type": "code",
   "execution_count": 2,
   "id": "a4141b1b-2341-4cc1-b39f-8eabf173cc85",
   "metadata": {},
   "outputs": [
    {
     "name": "stderr",
     "output_type": "stream",
     "text": [
      "2024-11-01 21:18:27.980438: I external/local_xla/xla/tsl/cuda/cudart_stub.cc:32] Could not find cuda drivers on your machine, GPU will not be used.\n",
      "2024-11-01 21:18:27.984877: I external/local_xla/xla/tsl/cuda/cudart_stub.cc:32] Could not find cuda drivers on your machine, GPU will not be used.\n",
      "2024-11-01 21:18:27.998806: E external/local_xla/xla/stream_executor/cuda/cuda_fft.cc:485] Unable to register cuFFT factory: Attempting to register factory for plugin cuFFT when one has already been registered\n",
      "2024-11-01 21:18:28.026325: E external/local_xla/xla/stream_executor/cuda/cuda_dnn.cc:8454] Unable to register cuDNN factory: Attempting to register factory for plugin cuDNN when one has already been registered\n",
      "2024-11-01 21:18:28.032979: E external/local_xla/xla/stream_executor/cuda/cuda_blas.cc:1452] Unable to register cuBLAS factory: Attempting to register factory for plugin cuBLAS when one has already been registered\n",
      "2024-11-01 21:18:28.051352: I tensorflow/core/platform/cpu_feature_guard.cc:210] This TensorFlow binary is optimized to use available CPU instructions in performance-critical operations.\n",
      "To enable the following instructions: AVX2 AVX512F FMA, in other operations, rebuild TensorFlow with the appropriate compiler flags.\n",
      "2024-11-01 21:18:29.069235: W tensorflow/compiler/tf2tensorrt/utils/py_utils.cc:38] TF-TRT Warning: Could not find TensorRT\n"
     ]
    }
   ],
   "source": [
    "import os\n",
    "os.environ['TF_USE_LEGACY_KERAS'] = '1'\n",
    "import tensorflowjs as tfjs"
   ]
  },
  {
   "cell_type": "code",
   "execution_count": null,
   "id": "b9732e14-0d35-4dc1-8601-8c45b38f2d39",
   "metadata": {
    "scrolled": false
   },
   "outputs": [],
   "source": [
    "from train import DQNAgent\n",
    "\n",
    "agent = DQNAgent()\n",
    "agent.train(should_plot=True, plot_interval=100)"
   ]
  },
  {
   "cell_type": "code",
   "execution_count": null,
   "id": "c024d8df",
   "metadata": {},
   "outputs": [],
   "source": [
    "tfjs.converters.save_keras_model(agent.model.model, \".\")"
   ]
  },
  {
   "cell_type": "code",
   "execution_count": null,
   "id": "948e5f1b",
   "metadata": {
    "scrolled": false
   },
   "outputs": [
    {
     "name": "stdout",
     "output_type": "stream",
     "text": [
      "WARNING:tensorflow:From /home/ubuntu/mimetic-bot-venv/lib/python3.10/site-packages/tensorflow/python/util/dispatch.py:1260: calling foldr_v2 (from tensorflow.python.ops.functional_ops) with back_prop=False is deprecated and will be removed in a future version.\n",
      "Instructions for updating:\n",
      "back_prop=False is deprecated. Consider using tf.stop_gradient instead.\n",
      "Instead of:\n",
      "results = tf.foldr(fn, elems, back_prop=False)\n",
      "Use:\n",
      "results = tf.nest.map_structure(tf.stop_gradient, tf.foldr(fn, elems))\n",
      "step = 200: loss = 6.236654007807374e-05\n",
      "step = 400: loss = 0.005250876769423485\n",
      "step = 600: loss = 0.005183976609259844\n",
      "step = 800: loss = 0.0051227472722530365\n",
      "step = 1000: loss = 0.009761236608028412\n",
      "step = 1200: loss = 3.0242268621805124e-05\n",
      "step = 1400: loss = 0.0005629024235531688\n",
      "step = 1600: loss = 1.128272560890764e-05\n",
      "step = 1800: loss = 8.773309673415497e-06\n",
      "step = 2000: loss = 0.009681622497737408\n",
      "step = 2200: loss = 0.010038933716714382\n",
      "step = 2400: loss = 8.438267832389101e-05\n",
      "step = 2600: loss = 0.004744327627122402\n",
      "step = 2800: loss = 7.999314402695745e-05\n",
      "step = 3000: loss = 7.279507553903386e-05\n",
      "step = 3200: loss = 4.6515342546626925e-05\n",
      "step = 3400: loss = 2.8043068596161902e-05\n",
      "step = 3600: loss = 0.009405015036463737\n",
      "step = 3800: loss = 0.004682800266891718\n",
      "step = 4000: loss = 0.003899318864569068\n",
      "step = 4200: loss = 0.0009692186722531915\n",
      "step = 4400: loss = 0.0037049551028758287\n",
      "step = 4600: loss = 0.012473740614950657\n",
      "step = 4800: loss = 0.003555883886292577\n",
      "step = 5000: loss = 0.00034144194796681404\n",
      "step = 5200: loss = 0.0077532390132546425\n",
      "step = 5400: loss = 7.271058711921796e-05\n",
      "step = 5600: loss = 5.320042691892013e-05\n",
      "step = 5800: loss = 1.507899651187472e-05\n",
      "step = 6000: loss = 4.082791929249652e-05\n",
      "step = 6200: loss = 0.0032259791623800993\n",
      "step = 6400: loss = 0.0030165270436555147\n",
      "step = 6600: loss = 0.00020352969295345247\n",
      "step = 6800: loss = 0.0006366901798173785\n",
      "step = 7000: loss = 0.0001417208550265059\n",
      "step = 7200: loss = 0.00033348891884088516\n",
      "step = 7400: loss = 2.1085903426865116e-05\n",
      "step = 7600: loss = 3.288034349679947e-05\n"
     ]
    }
   ],
   "source": [
    "from train import BreakoutEnv, create_dqn_agent, create_replay_buffer, train_agent, collect_initial_data\n",
    "import tensorflow as tf\n",
    "from tf_agents.environments import tf_py_environment\n",
    "from tf_agents.policies import random_tf_policy\n",
    "\n",
    "tf.compat.v1.enable_v2_behavior()\n",
    "\n",
    "# Create the environment\n",
    "py_env = BreakoutEnv()\n",
    "tf_env = tf_py_environment.TFPyEnvironment(py_env)\n",
    "\n",
    "# Create the DQN agent\n",
    "agent = create_dqn_agent(tf_env)\n",
    "agent.train_step_counter.assign(0)\n",
    "\n",
    "# Create the replay buffer\n",
    "replay_buffer = create_replay_buffer(agent, tf_env)\n",
    "\n",
    "# Create a random policy\n",
    "random_policy = random_tf_policy.RandomTFPolicy(tf_env.time_step_spec(), tf_env.action_spec())\n",
    "\n",
    "# Collect initial data\n",
    "initial_collect_steps = 1000  # Adjust as needed\n",
    "collect_initial_data(tf_env, random_policy, replay_buffer, initial_collect_steps)\n",
    "\n",
    "# Train the agent\n",
    "num_iterations = 20000  # Update as needed\n",
    "collect_steps_per_iteration = 1\n",
    "batch_size = 64\n",
    "log_interval = 200\n",
    "\n",
    "avg_loss = train_agent(num_iterations, collect_steps_per_iteration, batch_size, log_interval, tf_env, agent, replay_buffer)\n",
    "\n",
    "# Save the model\n",
    "import tensorflowjs as tfjs\n",
    "tfjs.converters.save_keras_model(agent._q_network, \".\")"
   ]
  }
 ],
 "metadata": {
  "kernelspec": {
   "display_name": "Python 3 (ipykernel)",
   "language": "python",
   "name": "python3"
  },
  "language_info": {
   "codemirror_mode": {
    "name": "ipython",
    "version": 3
   },
   "file_extension": ".py",
   "mimetype": "text/x-python",
   "name": "python",
   "nbconvert_exporter": "python",
   "pygments_lexer": "ipython3",
   "version": "3.10.12"
  }
 },
 "nbformat": 4,
 "nbformat_minor": 5
}
