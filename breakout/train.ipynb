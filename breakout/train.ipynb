{
 "cells": [
  {
   "cell_type": "code",
   "execution_count": 4,
   "id": "01d94892-50ea-4c5c-8af1-e5033555cd77",
   "metadata": {},
   "outputs": [
    {
     "name": "stdout",
     "output_type": "stream",
     "text": [
      "The autoreload extension is already loaded. To reload it, use:\n",
      "  %reload_ext autoreload\n"
     ]
    }
   ],
   "source": [
    "%load_ext autoreload\n",
    "%autoreload 2"
   ]
  },
  {
   "cell_type": "code",
   "execution_count": 5,
   "id": "a4141b1b-2341-4cc1-b39f-8eabf173cc85",
   "metadata": {},
   "outputs": [],
   "source": [
    "import os\n",
    "os.environ['TF_USE_LEGACY_KERAS'] = '1'\n",
    "import tensorflowjs as tfjs"
   ]
  },
  {
   "cell_type": "code",
   "execution_count": null,
   "id": "b9732e14-0d35-4dc1-8601-8c45b38f2d39",
   "metadata": {},
   "outputs": [
    {
     "name": "stdout",
     "output_type": "stream",
     "text": [
      "Episode: 100, Score: 5.199999999999994, Epsilon: 1.0000, Loss: 0.0025714202784001827\n",
      "Episode: 200, Score: -1, Epsilon: 1.0000, Loss: 0.0021212513092905283\n",
      "Episode: 300, Score: -1, Epsilon: 1.0000, Loss: 0.0031688951421529055\n",
      "Episode: 400, Score: -1, Epsilon: 1.0000, Loss: 0.0014916593208909035\n"
     ]
    }
   ],
   "source": [
    "# Import the necessary functions and classes\n",
    "from train import train_dqn, DQNAgent, Game\n",
    "\n",
    "# Set the number of episodes for training\n",
    "num_episodes = 10000\n",
    "\n",
    "# Run the training\n",
    "agent = train_dqn(num_episodes)\n",
    "\n",
    "tfjs.converters.save_keras_model(agent.model.model, \"model\")"
   ]
  }
 ],
 "metadata": {
  "kernelspec": {
   "display_name": "Python 3 (ipykernel)",
   "language": "python",
   "name": "python3"
  },
  "language_info": {
   "codemirror_mode": {
    "name": "ipython",
    "version": 3
   },
   "file_extension": ".py",
   "mimetype": "text/x-python",
   "name": "python",
   "nbconvert_exporter": "python",
   "pygments_lexer": "ipython3",
   "version": "3.11.0rc1"
  }
 },
 "nbformat": 4,
 "nbformat_minor": 5
}
