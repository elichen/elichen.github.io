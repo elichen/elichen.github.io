{
 "cells": [
  {
   "cell_type": "code",
   "execution_count": 4,
   "id": "01d94892-50ea-4c5c-8af1-e5033555cd77",
   "metadata": {},
   "outputs": [
    {
     "name": "stdout",
     "output_type": "stream",
     "text": [
      "The autoreload extension is already loaded. To reload it, use:\n",
      "  %reload_ext autoreload\n"
     ]
    }
   ],
   "source": [
    "%load_ext autoreload\n",
    "%autoreload 2"
   ]
  },
  {
   "cell_type": "code",
   "execution_count": 5,
   "id": "a4141b1b-2341-4cc1-b39f-8eabf173cc85",
   "metadata": {},
   "outputs": [
    {
     "name": "stderr",
     "output_type": "stream",
     "text": [
      "2024-10-23 00:09:56.634915: I external/local_xla/xla/tsl/cuda/cudart_stub.cc:32] Could not find cuda drivers on your machine, GPU will not be used.\n",
      "2024-10-23 00:09:56.638932: I external/local_xla/xla/tsl/cuda/cudart_stub.cc:32] Could not find cuda drivers on your machine, GPU will not be used.\n",
      "2024-10-23 00:09:56.652313: E external/local_xla/xla/stream_executor/cuda/cuda_fft.cc:485] Unable to register cuFFT factory: Attempting to register factory for plugin cuFFT when one has already been registered\n",
      "2024-10-23 00:09:56.673709: E external/local_xla/xla/stream_executor/cuda/cuda_dnn.cc:8454] Unable to register cuDNN factory: Attempting to register factory for plugin cuDNN when one has already been registered\n",
      "2024-10-23 00:09:56.679714: E external/local_xla/xla/stream_executor/cuda/cuda_blas.cc:1452] Unable to register cuBLAS factory: Attempting to register factory for plugin cuBLAS when one has already been registered\n",
      "2024-10-23 00:09:56.695393: I tensorflow/core/platform/cpu_feature_guard.cc:210] This TensorFlow binary is optimized to use available CPU instructions in performance-critical operations.\n",
      "To enable the following instructions: AVX2 AVX512F FMA, in other operations, rebuild TensorFlow with the appropriate compiler flags.\n",
      "2024-10-23 00:09:57.706891: W tensorflow/compiler/tf2tensorrt/utils/py_utils.cc:38] TF-TRT Warning: Could not find TensorRT\n"
     ]
    }
   ],
   "source": [
    "import os\n",
    "os.environ['TF_USE_LEGACY_KERAS'] = '1'\n",
    "import tensorflowjs as tfjs"
   ]
  },
  {
   "cell_type": "code",
   "execution_count": null,
   "id": "b9732e14-0d35-4dc1-8601-8c45b38f2d39",
   "metadata": {
    "scrolled": false
   },
   "outputs": [
    {
     "name": "stdout",
     "output_type": "stream",
     "text": [
      "Episode: 100, Score: 0.10000000000000009, Epsilon: 1.0000, Loss: 0.0026050081942230463\n",
      "Episode: 200, Score: -1, Epsilon: 1.0000, Loss: 0.0017222933238372207\n",
      "Episode: 300, Score: -0.9, Epsilon: 1.0000, Loss: 0.001691992860287428\n",
      "Episode: 400, Score: -1, Epsilon: 1.0000, Loss: 0.001894553191959858\n",
      "Episode: 500, Score: -1, Epsilon: 1.0000, Loss: 0.002064049243927002\n",
      "Episode: 600, Score: -1, Epsilon: 1.0000, Loss: 0.0007145816925913095\n",
      "Episode: 700, Score: 0.10000000000000009, Epsilon: 1.0000, Loss: 0.0001708437193883583\n",
      "Episode: 800, Score: 0.10000000000000009, Epsilon: 1.0000, Loss: 0.0004788623482454568\n",
      "Episode: 900, Score: 2.000000000000001, Epsilon: 1.0000, Loss: 0.0006258967914618552\n",
      "Episode: 1000, Score: -1, Epsilon: 1.0000, Loss: 0.0003063715703319758\n",
      "Episode: 1100, Score: -1, Epsilon: 0.9550, Loss: 0.0002486635057721287\n",
      "Episode: 1200, Score: -1, Epsilon: 0.9100, Loss: 0.0007386758807115257\n",
      "Episode: 1300, Score: -1, Epsilon: 0.8650, Loss: 0.0005126974429003894\n",
      "Episode: 1400, Score: -1, Epsilon: 0.8200, Loss: 0.00016856829461175948\n",
      "Episode: 1500, Score: -1, Epsilon: 0.7750, Loss: 0.0006753679481334984\n",
      "Episode: 1600, Score: -1, Epsilon: 0.7300, Loss: 0.0003580636403057724\n"
     ]
    },
    {
     "name": "stderr",
     "output_type": "stream",
     "text": [
      "2024-10-23 00:38:11.975181: W tensorflow/core/data/root_dataset.cc:362] Optimization loop failed: CANCELLED: Operation was cancelled\n"
     ]
    },
    {
     "name": "stdout",
     "output_type": "stream",
     "text": [
      "Episode: 1700, Score: -1, Epsilon: 0.6850, Loss: 0.0016150835435837507\n",
      "Episode: 1800, Score: -1, Epsilon: 0.6400, Loss: 0.004728213883936405\n",
      "Episode: 1900, Score: -1, Epsilon: 0.5950, Loss: 0.00032944633858278394\n",
      "Episode: 2000, Score: -1, Epsilon: 0.5500, Loss: 0.0009725932613946497\n",
      "Episode: 2100, Score: -1, Epsilon: 0.5050, Loss: 0.0005003117257729173\n",
      "Episode: 2200, Score: -1, Epsilon: 0.4600, Loss: 0.0002489546895958483\n",
      "Episode: 2300, Score: 1.2000000000000002, Epsilon: 0.4150, Loss: 0.00036598756560124457\n",
      "Episode: 2400, Score: -1, Epsilon: 0.3700, Loss: 0.0012365987058728933\n",
      "Episode: 2500, Score: 0.10000000000000009, Epsilon: 0.3250, Loss: 0.0006123955245129764\n",
      "Episode: 2600, Score: 1.2000000000000002, Epsilon: 0.2800, Loss: 0.0008057649247348309\n",
      "Episode: 2700, Score: 1.2000000000000002, Epsilon: 0.2350, Loss: 0.00030719710048288107\n",
      "Episode: 2800, Score: -1, Epsilon: 0.1900, Loss: 0.0013816902646794915\n",
      "Episode: 2900, Score: -1, Epsilon: 0.1450, Loss: 0.0007579301600344479\n",
      "Episode: 3000, Score: -1, Epsilon: 0.1000, Loss: 0.0016749120550230145\n",
      "Episode: 3100, Score: -1, Epsilon: 0.1000, Loss: 0.000930891081225127\n",
      "Episode: 3200, Score: -1, Epsilon: 0.1000, Loss: 0.0012573233107104897\n"
     ]
    },
    {
     "name": "stderr",
     "output_type": "stream",
     "text": [
      "2024-10-23 03:52:44.475845: W tensorflow/core/data/root_dataset.cc:362] Optimization loop failed: CANCELLED: Operation was cancelled\n",
      "2024-10-23 03:54:54.670863: W tensorflow/core/data/root_dataset.cc:362] Optimization loop failed: CANCELLED: Operation was cancelled\n"
     ]
    },
    {
     "name": "stdout",
     "output_type": "stream",
     "text": [
      "Episode: 3300, Score: -1, Epsilon: 0.1000, Loss: 0.002052661031484604\n"
     ]
    },
    {
     "name": "stderr",
     "output_type": "stream",
     "text": [
      "2024-10-23 04:20:16.260524: W tensorflow/core/data/root_dataset.cc:362] Optimization loop failed: CANCELLED: Operation was cancelled\n"
     ]
    },
    {
     "name": "stdout",
     "output_type": "stream",
     "text": [
      "Episode: 3400, Score: -1, Epsilon: 0.1000, Loss: 0.0005787901463918388\n",
      "Episode: 3500, Score: -1, Epsilon: 0.1000, Loss: 0.0003703137917909771\n",
      "Episode: 3600, Score: -1, Epsilon: 0.1000, Loss: 0.0005662000621668994\n",
      "Episode: 3700, Score: -1, Epsilon: 0.1000, Loss: 0.0018466113833710551\n",
      "Episode: 3800, Score: 0.10000000000000009, Epsilon: 0.1000, Loss: 0.0006194221205078065\n",
      "Episode: 3900, Score: -1, Epsilon: 0.1000, Loss: 0.0006216465262696147\n",
      "Episode: 4000, Score: -1, Epsilon: 0.1000, Loss: 0.0012092551914975047\n",
      "Episode: 4100, Score: -1, Epsilon: 0.1000, Loss: 0.0011456350330263376\n",
      "Episode: 4200, Score: 0.10000000000000009, Epsilon: 0.1000, Loss: 0.0009094601846300066\n",
      "Episode: 4300, Score: -1, Epsilon: 0.1000, Loss: 0.0005227861693128943\n",
      "Episode: 4400, Score: -1, Epsilon: 0.1000, Loss: 0.0011086845770478249\n",
      "Episode: 4500, Score: -1, Epsilon: 0.1000, Loss: 0.0018339637899771333\n",
      "Episode: 4600, Score: -1, Epsilon: 0.1000, Loss: 0.00119046401232481\n",
      "Episode: 4700, Score: -1, Epsilon: 0.1000, Loss: 0.0008397038909606636\n",
      "Episode: 4800, Score: -1, Epsilon: 0.1000, Loss: 0.002102731028571725\n",
      "Episode: 4900, Score: -1, Epsilon: 0.1000, Loss: 0.00028794497484341264\n",
      "Episode: 5000, Score: 0.10000000000000009, Epsilon: 0.1000, Loss: 0.0011188709177076817\n",
      "Episode: 5100, Score: 0.10000000000000009, Epsilon: 0.1000, Loss: 0.0049936226569116116\n",
      "Episode: 5200, Score: -1, Epsilon: 0.1000, Loss: 0.00046745926374569535\n"
     ]
    },
    {
     "name": "stderr",
     "output_type": "stream",
     "text": [
      "2024-10-23 09:32:08.550821: W tensorflow/core/data/root_dataset.cc:362] Optimization loop failed: CANCELLED: Operation was cancelled\n"
     ]
    },
    {
     "name": "stdout",
     "output_type": "stream",
     "text": [
      "Episode: 5300, Score: 2.1000000000000005, Epsilon: 0.1000, Loss: 0.001015284564346075\n",
      "Episode: 5400, Score: -1, Epsilon: 0.1000, Loss: 0.0024220182094722986\n",
      "Episode: 5500, Score: 0.10000000000000009, Epsilon: 0.1000, Loss: 0.00135960488114506\n",
      "Episode: 5600, Score: 0.10000000000000009, Epsilon: 0.1000, Loss: 0.0002768494305200875\n"
     ]
    },
    {
     "name": "stderr",
     "output_type": "stream",
     "text": [
      "2024-10-23 10:37:46.974453: W tensorflow/core/data/root_dataset.cc:362] Optimization loop failed: CANCELLED: Operation was cancelled\n"
     ]
    },
    {
     "name": "stdout",
     "output_type": "stream",
     "text": [
      "Episode: 5700, Score: -1, Epsilon: 0.1000, Loss: 0.00013465799565892667\n",
      "Episode: 5800, Score: 0.5, Epsilon: 0.1000, Loss: 0.0006424679304473102\n",
      "Episode: 5900, Score: -1, Epsilon: 0.1000, Loss: 0.002940766979008913\n",
      "Episode: 6000, Score: -1, Epsilon: 0.1000, Loss: 0.00031120071071200073\n",
      "Episode: 6100, Score: -1, Epsilon: 0.1000, Loss: 0.0005381422815844417\n",
      "Episode: 6200, Score: 0.5000000000000004, Epsilon: 0.1000, Loss: 0.0004935437464155257\n"
     ]
    },
    {
     "name": "stderr",
     "output_type": "stream",
     "text": [
      "2024-10-23 12:11:05.401213: W tensorflow/core/data/root_dataset.cc:362] Optimization loop failed: CANCELLED: Operation was cancelled\n"
     ]
    },
    {
     "name": "stdout",
     "output_type": "stream",
     "text": [
      "Episode: 6300, Score: 0.10000000000000009, Epsilon: 0.1000, Loss: 0.0005254048737697303\n",
      "Episode: 6400, Score: 0.10000000000000009, Epsilon: 0.1000, Loss: 0.0007040691561996937\n",
      "Episode: 6500, Score: -1, Epsilon: 0.1000, Loss: 0.005783340893685818\n",
      "Episode: 6600, Score: 4.699999999999999, Epsilon: 0.1000, Loss: 0.0009213207522407174\n",
      "Episode: 6700, Score: 0.10000000000000009, Epsilon: 0.1000, Loss: 0.0003309127641841769\n",
      "Episode: 6800, Score: -1, Epsilon: 0.1000, Loss: 0.0015959135489538312\n",
      "Episode: 6900, Score: -1, Epsilon: 0.1000, Loss: 0.0012132881674915552\n",
      "Episode: 7000, Score: -1, Epsilon: 0.1000, Loss: 0.001615211833268404\n",
      "Episode: 7100, Score: -1, Epsilon: 0.1000, Loss: 0.0011242295149713755\n",
      "Episode: 7200, Score: -1, Epsilon: 0.1000, Loss: 0.0003958350280299783\n"
     ]
    },
    {
     "name": "stderr",
     "output_type": "stream",
     "text": [
      "2024-10-23 14:40:20.004864: W tensorflow/core/data/root_dataset.cc:362] Optimization loop failed: CANCELLED: Operation was cancelled\n"
     ]
    },
    {
     "name": "stdout",
     "output_type": "stream",
     "text": [
      "Episode: 7300, Score: -1, Epsilon: 0.1000, Loss: 0.0007431989070028067\n"
     ]
    },
    {
     "name": "stderr",
     "output_type": "stream",
     "text": [
      "2024-10-23 14:59:04.689363: W tensorflow/core/data/root_dataset.cc:362] Optimization loop failed: CANCELLED: Operation was cancelled\n"
     ]
    },
    {
     "name": "stdout",
     "output_type": "stream",
     "text": [
      "Episode: 7400, Score: -1, Epsilon: 0.1000, Loss: 0.0015078752767294645\n",
      "Episode: 7500, Score: -1, Epsilon: 0.1000, Loss: 0.000928327557630837\n"
     ]
    },
    {
     "name": "stderr",
     "output_type": "stream",
     "text": [
      "2024-10-23 15:34:57.321838: W tensorflow/core/data/root_dataset.cc:362] Optimization loop failed: CANCELLED: Operation was cancelled\n"
     ]
    },
    {
     "name": "stdout",
     "output_type": "stream",
     "text": [
      "Episode: 7600, Score: -1, Epsilon: 0.1000, Loss: 0.0014718207530677319\n",
      "Episode: 7700, Score: -1, Epsilon: 0.1000, Loss: 0.003857603296637535\n",
      "Episode: 7800, Score: -1, Epsilon: 0.1000, Loss: 0.003832405898720026\n",
      "Episode: 7900, Score: 0.10000000000000009, Epsilon: 0.1000, Loss: 0.0002668203378561884\n",
      "Episode: 8000, Score: -1, Epsilon: 0.1000, Loss: 0.0024647400714457035\n"
     ]
    },
    {
     "name": "stderr",
     "output_type": "stream",
     "text": [
      "2024-10-23 16:57:08.523758: W tensorflow/core/data/root_dataset.cc:362] Optimization loop failed: CANCELLED: Operation was cancelled\n"
     ]
    },
    {
     "name": "stdout",
     "output_type": "stream",
     "text": [
      "Episode: 8100, Score: -1, Epsilon: 0.1000, Loss: 0.0005342267686501145\n",
      "Episode: 8200, Score: -1, Epsilon: 0.1000, Loss: 0.0005247648223303258\n",
      "Episode: 8300, Score: -1, Epsilon: 0.1000, Loss: 0.0016402800101786852\n",
      "Episode: 8400, Score: -1, Epsilon: 0.1000, Loss: 0.00014851804007776082\n",
      "Episode: 8500, Score: -1, Epsilon: 0.1000, Loss: 0.001462349551729858\n",
      "Episode: 8600, Score: -1, Epsilon: 0.1000, Loss: 0.0005921134725213051\n",
      "Episode: 8700, Score: -1, Epsilon: 0.1000, Loss: 0.00039232237031683326\n",
      "Episode: 8800, Score: -1, Epsilon: 0.1000, Loss: 0.0008828100981190801\n",
      "Episode: 8900, Score: -1, Epsilon: 0.1000, Loss: 0.0011012781178578734\n",
      "Episode: 9000, Score: -1, Epsilon: 0.1000, Loss: 0.0008047354640439153\n"
     ]
    },
    {
     "name": "stderr",
     "output_type": "stream",
     "text": [
      "2024-10-23 19:27:15.062908: W tensorflow/core/data/root_dataset.cc:362] Optimization loop failed: CANCELLED: Operation was cancelled\n"
     ]
    },
    {
     "name": "stdout",
     "output_type": "stream",
     "text": [
      "Episode: 9100, Score: -1, Epsilon: 0.1000, Loss: 0.0006292975158430636\n",
      "Episode: 9200, Score: -1, Epsilon: 0.1000, Loss: 0.0007524858810938895\n",
      "Episode: 9300, Score: 1.100000000000001, Epsilon: 0.1000, Loss: 0.0012802006676793098\n"
     ]
    },
    {
     "name": "stderr",
     "output_type": "stream",
     "text": [
      "2024-10-23 20:27:02.454576: W tensorflow/core/data/root_dataset.cc:362] Optimization loop failed: CANCELLED: Operation was cancelled\n"
     ]
    },
    {
     "name": "stdout",
     "output_type": "stream",
     "text": [
      "Episode: 9400, Score: -1, Epsilon: 0.1000, Loss: 0.0006344739231280982\n",
      "Episode: 9500, Score: 0.10000000000000009, Epsilon: 0.1000, Loss: 0.000672258494887501\n",
      "Episode: 9600, Score: 2.200000000000001, Epsilon: 0.1000, Loss: 0.00027316666091792285\n",
      "Episode: 9700, Score: -1, Epsilon: 0.1000, Loss: 0.0019910517148673534\n",
      "Episode: 9800, Score: -1, Epsilon: 0.1000, Loss: 0.0011276236036792397\n",
      "Episode: 9900, Score: -0.4, Epsilon: 0.1000, Loss: 0.0008815810433588922\n"
     ]
    }
   ],
   "source": [
    "# Import the necessary functions and classes\n",
    "from train import train_dqn, DQNAgent, Game\n",
    "\n",
    "# Set the number of episodes for training\n",
    "num_episodes = 10000\n",
    "\n",
    "# Run the training\n",
    "agent = train_dqn(num_episodes)\n",
    "\n",
    "tfjs.converters.save_keras_model(agent.model.model, \"model\")"
   ]
  }
 ],
 "metadata": {
  "kernelspec": {
   "display_name": "Python 3 (ipykernel)",
   "language": "python",
   "name": "python3"
  },
  "language_info": {
   "codemirror_mode": {
    "name": "ipython",
    "version": 3
   },
   "file_extension": ".py",
   "mimetype": "text/x-python",
   "name": "python",
   "nbconvert_exporter": "python",
   "pygments_lexer": "ipython3",
   "version": "3.10.12"
  }
 },
 "nbformat": 4,
 "nbformat_minor": 5
}
