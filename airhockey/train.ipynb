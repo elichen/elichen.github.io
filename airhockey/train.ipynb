{
 "cells": [
  {
   "cell_type": "code",
   "execution_count": 1,
   "id": "a90bed26-4cb4-497d-86ae-63fd6beb9474",
   "metadata": {},
   "outputs": [],
   "source": [
    "import sys\n",
    "from pathlib import Path\n",
    "\n",
    "# Add the Rainbow-Agent directory to sys.path\n",
    "rainbow_agent_path = Path(\"../../\")\n",
    "if rainbow_agent_path not in sys.path:\n",
    "    sys.path.append(str(rainbow_agent_path))"
   ]
  },
  {
   "cell_type": "code",
   "execution_count": null,
   "id": "9cd73ef3-8adc-4622-8718-fe47f6ecd473",
   "metadata": {},
   "outputs": [
    {
     "name": "stderr",
     "output_type": "stream",
     "text": [
      "/Users/eli/code/elichen.github.io/airhockey/.venv/lib/python3.11/site-packages/tensorflow_addons/utils/tfa_eol_msg.py:23: UserWarning: \n",
      "\n",
      "TensorFlow Addons (TFA) has ended development and introduction of new features.\n",
      "TFA has entered a minimal maintenance and release mode until a planned end of life in May 2024.\n",
      "Please modify downstream libraries to take dependencies from other repositories in our TensorFlow community (e.g. Keras, Keras-CV, and Keras-NLP). \n",
      "\n",
      "For more information see: https://github.com/tensorflow/addons/issues/2807 \n",
      "\n",
      "  warnings.warn(\n",
      "  0%|▋                                                                                                                                                                                                       | 33/10000 [00:20<1:56:41,  1.42it/s]"
     ]
    }
   ],
   "source": [
    "from train import train_agent\n",
    "\n",
    "# Train the agent\n",
    "episode_rewards = train_agent(episodes=10000, max_steps=1000)\n",
    "\n",
    "# Plot results if desired\n",
    "import matplotlib.pyplot as plt\n",
    "plt.plot(episode_rewards)\n",
    "plt.title('Training Progress')\n",
    "plt.xlabel('Episode')\n",
    "plt.ylabel('Reward')\n",
    "plt.show()"
   ]
  }
 ],
 "metadata": {
  "kernelspec": {
   "display_name": "Python 3 (ipykernel)",
   "language": "python",
   "name": "python3"
  },
  "language_info": {
   "codemirror_mode": {
    "name": "ipython",
    "version": 3
   },
   "file_extension": ".py",
   "mimetype": "text/x-python",
   "name": "python",
   "nbconvert_exporter": "python",
   "pygments_lexer": "ipython3",
   "version": "3.11.10"
  }
 },
 "nbformat": 4,
 "nbformat_minor": 5
}
