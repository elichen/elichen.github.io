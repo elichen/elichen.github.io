{
 "cells": [
  {
   "cell_type": "code",
   "execution_count": 1,
   "id": "2721a89d",
   "metadata": {},
   "outputs": [],
   "source": [
    "%load_ext autoreload\n",
    "%autoreload 2"
   ]
  },
  {
   "cell_type": "code",
   "execution_count": null,
   "id": "9cd73ef3-8adc-4622-8718-fe47f6ecd473",
   "metadata": {
    "scrolled": false
   },
   "outputs": [],
   "source": [
    "# Example notebook usage\n",
    "from train import AirHockeyEnv, train_agent\n",
    "\n",
    "# Create environment\n",
    "env = AirHockeyEnv()\n",
    "\n",
    "# Train agent with plotting\n",
    "trained_agent, training_metrics = train_agent(env, plot=True)\n",
    "\n",
    "# Save the model\n",
    "model_path = \"air_hockey_model\"\n",
    "trained_agent.online_network.save(model_path)"
   ]
  }
 ],
 "metadata": {
  "kernelspec": {
   "display_name": "Python 3 (ipykernel)",
   "language": "python",
   "name": "python3"
  },
  "language_info": {
   "codemirror_mode": {
    "name": "ipython",
    "version": 3
   },
   "file_extension": ".py",
   "mimetype": "text/x-python",
   "name": "python",
   "nbconvert_exporter": "python",
   "pygments_lexer": "ipython3",
   "version": "3.10.12"
  }
 },
 "nbformat": 4,
 "nbformat_minor": 5
}
