{
 "cells": [
  {
   "cell_type": "code",
   "execution_count": 1,
   "id": "e30b745e",
   "metadata": {},
   "outputs": [],
   "source": [
    "%load_ext autoreload\n",
    "%autoreload 2"
   ]
  },
  {
   "cell_type": "code",
   "execution_count": null,
   "id": "9cd73ef3-8adc-4622-8718-fe47f6ecd473",
   "metadata": {
    "scrolled": false
   },
   "outputs": [
    {
     "name": "stdout",
     "output_type": "stream",
     "text": [
      "Starting self-play training...\n",
      "\n",
      "Episode 0/10000 (12.8s)\n",
      "Steps: 1000\n",
      "P1: reward=-1.46, ε=0.62\n",
      "P2: reward=2.69, ε=0.62\n",
      "Buffer size: 1000\n",
      "----------------------------------------\n",
      "\n",
      "Episode 1/10000 (28.6s)\n",
      "Steps: 1000\n",
      "P1: reward=-1.05, ε=0.37\n",
      "P2: reward=3.15, ε=0.37\n",
      "Buffer size: 2000\n",
      "----------------------------------------\n",
      "\n",
      "Episode 2/10000 (46.4s)\n",
      "Steps: 1000\n",
      "P1: reward=-28.41, ε=0.23\n",
      "P2: reward=-0.96, ε=0.23\n",
      "Buffer size: 3000\n",
      "----------------------------------------\n",
      "\n",
      "Episode 3/10000 (65.8s)\n",
      "Steps: 1000\n",
      "P1: reward=-1.67, ε=0.14\n",
      "P2: reward=2.28, ε=0.14\n",
      "Buffer size: 4000\n",
      "----------------------------------------\n"
     ]
    }
   ],
   "source": [
    "# Example notebook usage\n",
    "from train import AirHockeyEnv, train_agent\n",
    "\n",
    "# Create environment\n",
    "env = AirHockeyEnv()\n",
    "\n",
    "# Train agent with plotting\n",
    "trained_agent, training_metrics = train_agent(env, plot=True)\n",
    "\n",
    "# Save the model\n",
    "model_path = \"air_hockey_model\"\n",
    "trained_agent.online_network.save(model_path)"
   ]
  }
 ],
 "metadata": {
  "kernelspec": {
   "display_name": "Python 3 (ipykernel)",
   "language": "python",
   "name": "python3"
  },
  "language_info": {
   "codemirror_mode": {
    "name": "ipython",
    "version": 3
   },
   "file_extension": ".py",
   "mimetype": "text/x-python",
   "name": "python",
   "nbconvert_exporter": "python",
   "pygments_lexer": "ipython3",
   "version": "3.10.12"
  }
 },
 "nbformat": 4,
 "nbformat_minor": 5
}
